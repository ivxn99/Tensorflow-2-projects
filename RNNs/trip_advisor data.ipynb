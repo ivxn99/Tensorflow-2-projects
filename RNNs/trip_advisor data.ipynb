{
  "nbformat": 4,
  "nbformat_minor": 0,
  "metadata": {
    "colab": {
      "name": "trip_advisor, val_acc low.ipynb",
      "provenance": [],
      "collapsed_sections": []
    },
    "kernelspec": {
      "name": "python3",
      "display_name": "Python 3"
    },
    "accelerator": "GPU"
  },
  "cells": [
    {
      "cell_type": "code",
      "metadata": {
        "id": "CXTMRqEHpM7P"
      },
      "source": [
        "import pandas as pd\n",
        "import numpy as np\n",
        "import matplotlib.pyplot as plt\n",
        "import tensorflow as tf\n",
        "from tensorflow.keras.models import Model\n",
        "from tensorflow.keras.layers import Dense, LSTM, Dropout, Flatten, Embedding, Bidirectional, Input\n",
        "from tensorflow.keras import Sequential\n",
        "import re\n",
        "from tensorflow.keras.preprocessing.text import Tokenizer\n",
        "from tensorflow.keras.preprocessing.sequence import pad_sequences"
      ],
      "execution_count": 1,
      "outputs": []
    },
    {
      "cell_type": "code",
      "metadata": {
        "id": "gLUoQhJfpgKM",
        "outputId": "ae2bb4f5-011d-4c92-fe78-ae5b19649f46",
        "colab": {
          "base_uri": "https://localhost:8080/",
          "height": 204
        }
      },
      "source": [
        "data = pd.read_csv('/content/tripadvisor_hotel_reviews.csv')\n",
        "data.head()"
      ],
      "execution_count": 2,
      "outputs": [
        {
          "output_type": "execute_result",
          "data": {
            "text/html": [
              "<div>\n",
              "<style scoped>\n",
              "    .dataframe tbody tr th:only-of-type {\n",
              "        vertical-align: middle;\n",
              "    }\n",
              "\n",
              "    .dataframe tbody tr th {\n",
              "        vertical-align: top;\n",
              "    }\n",
              "\n",
              "    .dataframe thead th {\n",
              "        text-align: right;\n",
              "    }\n",
              "</style>\n",
              "<table border=\"1\" class=\"dataframe\">\n",
              "  <thead>\n",
              "    <tr style=\"text-align: right;\">\n",
              "      <th></th>\n",
              "      <th>Review</th>\n",
              "      <th>Rating</th>\n",
              "    </tr>\n",
              "  </thead>\n",
              "  <tbody>\n",
              "    <tr>\n",
              "      <th>0</th>\n",
              "      <td>nice hotel expensive parking got good deal sta...</td>\n",
              "      <td>4</td>\n",
              "    </tr>\n",
              "    <tr>\n",
              "      <th>1</th>\n",
              "      <td>ok nothing special charge diamond member hilto...</td>\n",
              "      <td>2</td>\n",
              "    </tr>\n",
              "    <tr>\n",
              "      <th>2</th>\n",
              "      <td>nice rooms not 4* experience hotel monaco seat...</td>\n",
              "      <td>3</td>\n",
              "    </tr>\n",
              "    <tr>\n",
              "      <th>3</th>\n",
              "      <td>unique, great stay, wonderful time hotel monac...</td>\n",
              "      <td>5</td>\n",
              "    </tr>\n",
              "    <tr>\n",
              "      <th>4</th>\n",
              "      <td>great stay great stay, went seahawk game aweso...</td>\n",
              "      <td>5</td>\n",
              "    </tr>\n",
              "  </tbody>\n",
              "</table>\n",
              "</div>"
            ],
            "text/plain": [
              "                                              Review  Rating\n",
              "0  nice hotel expensive parking got good deal sta...       4\n",
              "1  ok nothing special charge diamond member hilto...       2\n",
              "2  nice rooms not 4* experience hotel monaco seat...       3\n",
              "3  unique, great stay, wonderful time hotel monac...       5\n",
              "4  great stay great stay, went seahawk game aweso...       5"
            ]
          },
          "metadata": {
            "tags": []
          },
          "execution_count": 2
        }
      ]
    },
    {
      "cell_type": "markdown",
      "metadata": {
        "id": "NsTRFuSF94Uv"
      },
      "source": [
        "Clean the text by removing links, symbols and similiar.."
      ]
    },
    {
      "cell_type": "code",
      "metadata": {
        "id": "jqfxNBFapz9L",
        "outputId": "269ad902-9826-40b1-d56f-5c798bd367d4",
        "colab": {
          "base_uri": "https://localhost:8080/",
          "height": 204
        }
      },
      "source": [
        "def get_clean_text(x):\n",
        "    x = re.sub(r'([a-zA-Z0-9+._-]+@[a-zA-Z0-9._-]+\\.[a-zA-Z0-9_-]+)', '', x) \n",
        "    #regex to remove to emails(above)\n",
        "    x = re.sub(r'(http|ftp|https)://([\\w_-]+(?:(?:\\.[\\w_-]+)+))([\\w.,@?^=%&:/~+#-]*[\\w@?^=%&/~+#-])?', '', x)\n",
        "    #regex to remove URLs\n",
        "    x = re.sub('RT', \"\", x)\n",
        "    #substitute the 'RT' retweet tags with empty spaces\n",
        "    x = re.sub('[^A-Z a-z]+', '', x)\n",
        "    return x\n",
        "data['Review'] = data['Review'].apply(lambda x:get_clean_text(x))\n",
        "data.head()"
      ],
      "execution_count": 3,
      "outputs": [
        {
          "output_type": "execute_result",
          "data": {
            "text/html": [
              "<div>\n",
              "<style scoped>\n",
              "    .dataframe tbody tr th:only-of-type {\n",
              "        vertical-align: middle;\n",
              "    }\n",
              "\n",
              "    .dataframe tbody tr th {\n",
              "        vertical-align: top;\n",
              "    }\n",
              "\n",
              "    .dataframe thead th {\n",
              "        text-align: right;\n",
              "    }\n",
              "</style>\n",
              "<table border=\"1\" class=\"dataframe\">\n",
              "  <thead>\n",
              "    <tr style=\"text-align: right;\">\n",
              "      <th></th>\n",
              "      <th>Review</th>\n",
              "      <th>Rating</th>\n",
              "    </tr>\n",
              "  </thead>\n",
              "  <tbody>\n",
              "    <tr>\n",
              "      <th>0</th>\n",
              "      <td>nice hotel expensive parking got good deal sta...</td>\n",
              "      <td>4</td>\n",
              "    </tr>\n",
              "    <tr>\n",
              "      <th>1</th>\n",
              "      <td>ok nothing special charge diamond member hilto...</td>\n",
              "      <td>2</td>\n",
              "    </tr>\n",
              "    <tr>\n",
              "      <th>2</th>\n",
              "      <td>nice rooms not  experience hotel monaco seattl...</td>\n",
              "      <td>3</td>\n",
              "    </tr>\n",
              "    <tr>\n",
              "      <th>3</th>\n",
              "      <td>unique great stay wonderful time hotel monaco ...</td>\n",
              "      <td>5</td>\n",
              "    </tr>\n",
              "    <tr>\n",
              "      <th>4</th>\n",
              "      <td>great stay great stay went seahawk game awesom...</td>\n",
              "      <td>5</td>\n",
              "    </tr>\n",
              "  </tbody>\n",
              "</table>\n",
              "</div>"
            ],
            "text/plain": [
              "                                              Review  Rating\n",
              "0  nice hotel expensive parking got good deal sta...       4\n",
              "1  ok nothing special charge diamond member hilto...       2\n",
              "2  nice rooms not  experience hotel monaco seattl...       3\n",
              "3  unique great stay wonderful time hotel monaco ...       5\n",
              "4  great stay great stay went seahawk game awesom...       5"
            ]
          },
          "metadata": {
            "tags": []
          },
          "execution_count": 3
        }
      ]
    },
    {
      "cell_type": "markdown",
      "metadata": {
        "id": "dc5eIKQL99T9"
      },
      "source": [
        "Split the data, print the shapes to confirm everything's ok"
      ]
    },
    {
      "cell_type": "code",
      "metadata": {
        "id": "n-8_2Z8npz6r",
        "outputId": "b62480cf-c413-4a3f-87ae-04724a32481a",
        "colab": {
          "base_uri": "https://localhost:8080/",
          "height": 85
        }
      },
      "source": [
        "X = data.Review\n",
        "y = data.Rating.map({1:0, 2:1, 3:2, 4:3, 5:4})\n",
        "\n",
        "train_size = int(len(data)*0.8)\n",
        "\n",
        "X_train, y_train = X[:train_size], y[:train_size]\n",
        "X_test, y_test = X[train_size:], y[train_size:]\n",
        "#Print the shapes\n",
        "print(\"X_train shape: \",X_train.shape)\n",
        "print(\"X_test shape: \",X_test.shape)\n",
        "print(\"y_train shape: \",y_train.shape)\n",
        "print(\"y_test shape: \",y_test.shape)"
      ],
      "execution_count": 4,
      "outputs": [
        {
          "output_type": "stream",
          "text": [
            "X_train shape:  (16392,)\n",
            "X_test shape:  (4099,)\n",
            "y_train shape:  (16392,)\n",
            "y_test shape:  (4099,)\n"
          ],
          "name": "stdout"
        }
      ]
    },
    {
      "cell_type": "markdown",
      "metadata": {
        "id": "yx3Sv3lP-K92"
      },
      "source": [
        "Print out some statistics about text data"
      ]
    },
    {
      "cell_type": "code",
      "metadata": {
        "id": "09ImTZdlqK5y",
        "outputId": "efa2484f-acbd-4f60-ac90-3d8b6bf782b1",
        "colab": {
          "base_uri": "https://localhost:8080/",
          "height": 85
        }
      },
      "source": [
        "print(\"Max sentence length:\", X.map(len).max())\n",
        "print(\"Min sentence length:\", X.map(len).min())\n",
        "print(\"Average sentence length:\", X.map(len).mean())\n",
        "\n",
        "chars = sorted(list(set(X)))\n",
        "print('Total words:', len(chars))"
      ],
      "execution_count": 5,
      "outputs": [
        {
          "output_type": "stream",
          "text": [
            "Max sentence length: 13056\n",
            "Min sentence length: 42\n",
            "Average sentence length: 701.4552242447904\n",
            "Total words: 20491\n"
          ],
          "name": "stdout"
        }
      ]
    },
    {
      "cell_type": "code",
      "metadata": {
        "id": "5yF41lOPqOnC"
      },
      "source": [
        "vocab_size = 8000\n",
        "max_length = 200\n",
        "embedding_dim = 32\n",
        "batch_size = 32\n",
        "\n",
        "tokenizer = Tokenizer(vocab_size, oov_token='<OOV>')\n",
        "tokenizer.fit_on_texts(X_train)\n",
        "word_index = tokenizer.word_index\n",
        "\n",
        "train_sequences = tokenizer.texts_to_sequences(X_train)\n",
        "train_padded = pad_sequences(train_sequences, maxlen = max_length, padding='pre', truncating='pre')\n",
        "\n",
        "test_sequences = tokenizer.texts_to_sequences(X_test)\n",
        "test_padded = pad_sequences(test_sequences, maxlen = max_length, padding='pre', truncating='pre')"
      ],
      "execution_count": 6,
      "outputs": []
    },
    {
      "cell_type": "code",
      "metadata": {
        "id": "5i_7HhL5qaMT",
        "outputId": "14022fd5-2ab8-44a6-8ff1-c37ef61a050f",
        "colab": {
          "base_uri": "https://localhost:8080/",
          "height": 357
        }
      },
      "source": [
        "model = Sequential([\n",
        "                   Embedding(vocab_size, embedding_dim, input_length=max_length),\n",
        "                   Bidirectional(LSTM(100, return_sequences=True)),\n",
        "                   LSTM(50),\n",
        "                   Dropout(0.1),\n",
        "                   Dense(100, kernel_regularizer=tf.keras.regularizers.l2(0.0015), activation='relu'),\n",
        "                   Dense(5, activation='softmax') \n",
        "])\n",
        "model.summary()"
      ],
      "execution_count": 7,
      "outputs": [
        {
          "output_type": "stream",
          "text": [
            "Model: \"sequential\"\n",
            "_________________________________________________________________\n",
            "Layer (type)                 Output Shape              Param #   \n",
            "=================================================================\n",
            "embedding (Embedding)        (None, 200, 32)           256000    \n",
            "_________________________________________________________________\n",
            "bidirectional (Bidirectional (None, 200, 200)          106400    \n",
            "_________________________________________________________________\n",
            "lstm_1 (LSTM)                (None, 50)                50200     \n",
            "_________________________________________________________________\n",
            "dropout (Dropout)            (None, 50)                0         \n",
            "_________________________________________________________________\n",
            "dense (Dense)                (None, 100)               5100      \n",
            "_________________________________________________________________\n",
            "dense_1 (Dense)              (None, 5)                 505       \n",
            "=================================================================\n",
            "Total params: 418,205\n",
            "Trainable params: 418,205\n",
            "Non-trainable params: 0\n",
            "_________________________________________________________________\n"
          ],
          "name": "stdout"
        }
      ]
    },
    {
      "cell_type": "code",
      "metadata": {
        "id": "y90k2WCUgH7W"
      },
      "source": [
        "initial_learning_rate = 0.01\n",
        "lr_schedule = tf.keras.optimizers.schedules.ExponentialDecay(\n",
        "    initial_learning_rate,\n",
        "    decay_steps=10000,\n",
        "    decay_rate=0.96,\n",
        "    staircase=True)"
      ],
      "execution_count": 8,
      "outputs": []
    },
    {
      "cell_type": "code",
      "metadata": {
        "id": "w-qy1FmEqcWy",
        "outputId": "bb98036d-a95f-4f5c-be83-082693227064",
        "colab": {
          "base_uri": "https://localhost:8080/",
          "height": 357
        }
      },
      "source": [
        "model.compile(optimizer=tf.keras.optimizers.Adam(learning_rate=lr_schedule), loss='sparse_categorical_crossentropy', metrics=['accuracy'])\n",
        "\n",
        "history = model.fit(train_padded, y_train, epochs=10, batch_size=batch_size,\n",
        "                    validation_data=(test_padded, y_test))"
      ],
      "execution_count": 9,
      "outputs": [
        {
          "output_type": "stream",
          "text": [
            "Epoch 1/10\n",
            "513/513 [==============================] - 16s 31ms/step - loss: 1.2957 - accuracy: 0.4331 - val_loss: 1.0556 - val_accuracy: 0.5304\n",
            "Epoch 2/10\n",
            "513/513 [==============================] - 15s 30ms/step - loss: 1.0252 - accuracy: 0.5295 - val_loss: 0.9854 - val_accuracy: 0.5475\n",
            "Epoch 3/10\n",
            "513/513 [==============================] - 15s 30ms/step - loss: 0.9088 - accuracy: 0.5949 - val_loss: 0.8986 - val_accuracy: 0.6048\n",
            "Epoch 4/10\n",
            "513/513 [==============================] - 15s 29ms/step - loss: 0.8396 - accuracy: 0.6332 - val_loss: 0.9074 - val_accuracy: 0.5970\n",
            "Epoch 5/10\n",
            "513/513 [==============================] - 15s 29ms/step - loss: 0.7683 - accuracy: 0.6681 - val_loss: 0.9198 - val_accuracy: 0.6114\n",
            "Epoch 6/10\n",
            "513/513 [==============================] - 15s 30ms/step - loss: 0.7053 - accuracy: 0.6986 - val_loss: 0.9499 - val_accuracy: 0.6111\n",
            "Epoch 7/10\n",
            "513/513 [==============================] - 15s 30ms/step - loss: 0.6683 - accuracy: 0.7219 - val_loss: 0.9720 - val_accuracy: 0.6028\n",
            "Epoch 8/10\n",
            "513/513 [==============================] - 15s 29ms/step - loss: 0.6230 - accuracy: 0.7447 - val_loss: 1.0095 - val_accuracy: 0.6004\n",
            "Epoch 9/10\n",
            "513/513 [==============================] - 15s 30ms/step - loss: 0.5954 - accuracy: 0.7595 - val_loss: 1.0896 - val_accuracy: 0.5867\n",
            "Epoch 10/10\n",
            "513/513 [==============================] - 15s 29ms/step - loss: 0.5600 - accuracy: 0.7781 - val_loss: 1.0868 - val_accuracy: 0.5709\n"
          ],
          "name": "stdout"
        }
      ]
    },
    {
      "cell_type": "code",
      "metadata": {
        "id": "p8XhgCwWqxT4"
      },
      "source": [
        ""
      ],
      "execution_count": 9,
      "outputs": []
    }
  ]
}