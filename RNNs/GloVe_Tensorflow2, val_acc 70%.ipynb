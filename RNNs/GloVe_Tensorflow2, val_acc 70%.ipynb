{
  "nbformat": 4,
  "nbformat_minor": 0,
  "metadata": {
    "colab": {
      "name": "GloVe Tensorflow2.ipynb",
      "provenance": []
    },
    "kernelspec": {
      "name": "python3",
      "display_name": "Python 3"
    }
  },
  "cells": [
    {
      "cell_type": "markdown",
      "metadata": {
        "id": "S-5g6wLVFk_C"
      },
      "source": [
        "Dataset used in this notebook: [Amazon Alexa Reviews](https://www.kaggle.com/sid321axn/amazon-alexa-reviews)"
      ]
    },
    {
      "cell_type": "code",
      "metadata": {
        "id": "oX-RkWpS-xdj"
      },
      "source": [
        "import tensorflow as tf\n",
        "from tensorflow.keras.preprocessing.text import Tokenizer\n",
        "from tensorflow.keras.preprocessing.sequence import pad_sequences\n",
        "from tensorflow.keras.layers import Dense, Conv1D, MaxPooling1D, Dropout, GlobalMaxPooling1D\n",
        "from tensorflow.keras import Sequential\n",
        "import numpy as np\n",
        "import pandas as pd\n",
        "import matplotlib.pyplot as plt\n",
        "import seaborn as sns"
      ],
      "execution_count": null,
      "outputs": []
    },
    {
      "cell_type": "code",
      "metadata": {
        "id": "m38Plvk1Ebfi",
        "outputId": "fc68c328-60a2-4585-b2f9-1b5e247beb0d",
        "colab": {
          "base_uri": "https://localhost:8080/",
          "height": 204
        }
      },
      "source": [
        "data = pd.read_csv('/content/amazon_alexa.tsv', sep='\\t')\n",
        "data.head()"
      ],
      "execution_count": null,
      "outputs": [
        {
          "output_type": "execute_result",
          "data": {
            "text/html": [
              "<div>\n",
              "<style scoped>\n",
              "    .dataframe tbody tr th:only-of-type {\n",
              "        vertical-align: middle;\n",
              "    }\n",
              "\n",
              "    .dataframe tbody tr th {\n",
              "        vertical-align: top;\n",
              "    }\n",
              "\n",
              "    .dataframe thead th {\n",
              "        text-align: right;\n",
              "    }\n",
              "</style>\n",
              "<table border=\"1\" class=\"dataframe\">\n",
              "  <thead>\n",
              "    <tr style=\"text-align: right;\">\n",
              "      <th></th>\n",
              "      <th>rating</th>\n",
              "      <th>date</th>\n",
              "      <th>variation</th>\n",
              "      <th>verified_reviews</th>\n",
              "      <th>feedback</th>\n",
              "    </tr>\n",
              "  </thead>\n",
              "  <tbody>\n",
              "    <tr>\n",
              "      <th>0</th>\n",
              "      <td>5</td>\n",
              "      <td>31-Jul-18</td>\n",
              "      <td>Charcoal Fabric</td>\n",
              "      <td>Love my Echo!</td>\n",
              "      <td>1</td>\n",
              "    </tr>\n",
              "    <tr>\n",
              "      <th>1</th>\n",
              "      <td>5</td>\n",
              "      <td>31-Jul-18</td>\n",
              "      <td>Charcoal Fabric</td>\n",
              "      <td>Loved it!</td>\n",
              "      <td>1</td>\n",
              "    </tr>\n",
              "    <tr>\n",
              "      <th>2</th>\n",
              "      <td>4</td>\n",
              "      <td>31-Jul-18</td>\n",
              "      <td>Walnut Finish</td>\n",
              "      <td>Sometimes while playing a game, you can answer...</td>\n",
              "      <td>1</td>\n",
              "    </tr>\n",
              "    <tr>\n",
              "      <th>3</th>\n",
              "      <td>5</td>\n",
              "      <td>31-Jul-18</td>\n",
              "      <td>Charcoal Fabric</td>\n",
              "      <td>I have had a lot of fun with this thing. My 4 ...</td>\n",
              "      <td>1</td>\n",
              "    </tr>\n",
              "    <tr>\n",
              "      <th>4</th>\n",
              "      <td>5</td>\n",
              "      <td>31-Jul-18</td>\n",
              "      <td>Charcoal Fabric</td>\n",
              "      <td>Music</td>\n",
              "      <td>1</td>\n",
              "    </tr>\n",
              "  </tbody>\n",
              "</table>\n",
              "</div>"
            ],
            "text/plain": [
              "   rating  ... feedback\n",
              "0       5  ...        1\n",
              "1       5  ...        1\n",
              "2       4  ...        1\n",
              "3       5  ...        1\n",
              "4       5  ...        1\n",
              "\n",
              "[5 rows x 5 columns]"
            ]
          },
          "metadata": {
            "tags": []
          },
          "execution_count": 2
        }
      ]
    },
    {
      "cell_type": "code",
      "metadata": {
        "id": "28CENRUFPBRY"
      },
      "source": [
        "import re\n",
        "def get_clean_text(x):\n",
        "    x = re.sub(r'([a-zA-Z0-9+._-]+@[a-zA-Z0-9._-]+\\.[a-zA-Z0-9_-]+)', '', x) \n",
        "    #regex to remove to emails(above)\n",
        "    x = re.sub(r'(http|ftp|https)://([\\w_-]+(?:(?:\\.[\\w_-]+)+))([\\w.,@?^=%&:/~+#-]*[\\w@?^=%&/~+#-])?', '', x)\n",
        "    #regex to remove URLs\n",
        "    x = re.sub('RT', \"\", x)\n",
        "    #substitute the 'RT' retweet tags with empty spaces\n",
        "    x = re.sub('[^A-Z a-z]+', '', x)\n",
        "    return x\n",
        "data['verified_reviews'] = data['verified_reviews'].apply(lambda x: get_clean_text(x))"
      ],
      "execution_count": null,
      "outputs": []
    },
    {
      "cell_type": "markdown",
      "metadata": {
        "id": "m3NOOmFPxEDy"
      },
      "source": [
        "Plot how much each label class occurs in rating"
      ]
    },
    {
      "cell_type": "code",
      "metadata": {
        "id": "RAb7u2wsF54L",
        "outputId": "d6355391-38d1-4113-e0ec-ff3c75d9dc8b",
        "colab": {
          "base_uri": "https://localhost:8080/",
          "height": 405
        }
      },
      "source": [
        "plt.figure(figsize=(10,6))\n",
        "sns.countplot(x=data['rating'])"
      ],
      "execution_count": null,
      "outputs": [
        {
          "output_type": "execute_result",
          "data": {
            "text/plain": [
              "<matplotlib.axes._subplots.AxesSubplot at 0x7fd6f4cf16a0>"
            ]
          },
          "metadata": {
            "tags": []
          },
          "execution_count": 50
        },
        {
          "output_type": "display_data",
          "data": {
            "image/png": "[encoded data removed]",
            "text/plain": [
              "<Figure size 720x432 with 1 Axes>"
            ]
          },
          "metadata": {
            "tags": [],
            "needs_background": "light"
          }
        }
      ]
    },
    {
      "cell_type": "code",
      "metadata": {
        "id": "u1fOSS3PGkW9",
        "outputId": "5fb60578-19a9-493f-a305-51b6363b3336",
        "colab": {
          "base_uri": "https://localhost:8080/",
          "height": 68
        }
      },
      "source": [
        "print(\"Max review length: \",data['verified_reviews'].map(len).max())\n",
        "print(\"Min review length: \",data['verified_reviews'].map(len).min())\n",
        "print(\"Average tweet length: \", data['verified_reviews'].map(len).mean())\n",
        "\n",
        "chars = sorted(list(set(data['verified_reviews'])))"
      ],
      "execution_count": null,
      "outputs": [
        {
          "output_type": "stream",
          "text": [
            "Max review length:  2672\n",
            "Min review length:  0\n",
            "Average tweet length:  127.56285714285714\n"
          ],
          "name": "stdout"
        }
      ]
    },
    {
      "cell_type": "code",
      "metadata": {
        "id": "-t4TWmc7JEll"
      },
      "source": [
        "X = data.verified_reviews\n",
        "y = data.rating.map({1:0, 2:1, 3:2, 4:3, 5:4})\n",
        "\n",
        "train_size = int(len(data) * 0.8)\n",
        "X_train, y_train = X[:train_size], y[:train_size]\n",
        "X_test, y_test = X[train_size:], y[train_size:]"
      ],
      "execution_count": null,
      "outputs": []
    },
    {
      "cell_type": "markdown",
      "metadata": {
        "id": "8ppiafjk00gI"
      },
      "source": [
        "Download pre-trained GloVe embeddings (a 822M zip file)\n",
        "The downloaded zip contains different vectors of various sizes. We decide to use 100D (dimensions) one.\n"
      ]
    },
    {
      "cell_type": "code",
      "metadata": {
        "id": "vyWl-7TqJ39C",
        "outputId": "28f1b284-ac19-4161-d07b-27331e9ff12d",
        "colab": {
          "base_uri": "https://localhost:8080/",
          "height": 323
        }
      },
      "source": [
        "!wget http://nlp.stanford.edu/data/glove.6B.zip\n",
        "!unzip -q glove.6B.zip"
      ],
      "execution_count": null,
      "outputs": [
        {
          "output_type": "stream",
          "text": [
            "--2020-10-15 10:13:51--  http://nlp.stanford.edu/data/glove.6B.zip\n",
            "Resolving nlp.stanford.edu (nlp.stanford.edu)... 171.64.67.140\n",
            "Connecting to nlp.stanford.edu (nlp.stanford.edu)|171.64.67.140|:80... connected.\n",
            "HTTP request sent, awaiting response... 302 Found\n",
            "Location: https://nlp.stanford.edu/data/glove.6B.zip [following]\n",
            "--2020-10-15 10:13:51--  https://nlp.stanford.edu/data/glove.6B.zip\n",
            "Connecting to nlp.stanford.edu (nlp.stanford.edu)|171.64.67.140|:443... connected.\n",
            "HTTP request sent, awaiting response... 301 Moved Permanently\n",
            "Location: http://downloads.cs.stanford.edu/nlp/data/glove.6B.zip [following]\n",
            "--2020-10-15 10:13:51--  http://downloads.cs.stanford.edu/nlp/data/glove.6B.zip\n",
            "Resolving downloads.cs.stanford.edu (downloads.cs.stanford.edu)... 171.64.64.22\n",
            "Connecting to downloads.cs.stanford.edu (downloads.cs.stanford.edu)|171.64.64.22|:80... connected.\n",
            "HTTP request sent, awaiting response... 200 OK\n",
            "Length: 862182613 (822M) [application/zip]\n",
            "Saving to: ‘glove.6B.zip.1’\n",
            "\n",
            "glove.6B.zip.1        7%[>                   ]  58.77M  8.91MB/s    eta 75s    ^C\n",
            "replace glove.6B.50d.txt? [y]es, [n]o, [A]ll, [N]one, [r]ename: "
          ],
          "name": "stdout"
        }
      ]
    },
    {
      "cell_type": "markdown",
      "metadata": {
        "id": "lM_tqpuY1KuP"
      },
      "source": [
        "TextVectorization - for indexing the vocabulary in the dataset\n",
        "We choose only top 20000 words, and we pad them to 150 tokens"
      ]
    },
    {
      "cell_type": "code",
      "metadata": {
        "id": "rNzgN_fONPiA"
      },
      "source": [
        "from tensorflow.keras.layers.experimental.preprocessing import TextVectorization\n",
        "\n",
        "vectorizer = TextVectorization(max_tokens=20000, output_sequence_length=150)\n",
        "text_ds = tf.data.Dataset.from_tensor_slices(X_train).batch(128)\n",
        "vectorizer.adapt(text_ds)"
      ],
      "execution_count": null,
      "outputs": []
    },
    {
      "cell_type": "code",
      "metadata": {
        "id": "A4IrD2dNNT0X",
        "outputId": "16c3836b-eaf5-4f9d-f549-c86259eafe07",
        "colab": {
          "base_uri": "https://localhost:8080/",
          "height": 34
        }
      },
      "source": [
        "#We can retrieve the computed vocabulary like this:\n",
        "#Let's print the top 5 words\n",
        "vectorizer.get_vocabulary()[:5]"
      ],
      "execution_count": null,
      "outputs": [
        {
          "output_type": "execute_result",
          "data": {
            "text/plain": [
              "['', '[UNK]', 'the', 'i', 'to']"
            ]
          },
          "metadata": {
            "tags": []
          },
          "execution_count": 41
        }
      ]
    },
    {
      "cell_type": "code",
      "metadata": {
        "id": "cY104Jp1NT6X"
      },
      "source": [
        "#Here's a dict mapping words to their indices:\n",
        "voc = vectorizer.get_vocabulary()\n",
        "word_index = dict(zip(voc, range(len(voc))))"
      ],
      "execution_count": null,
      "outputs": []
    },
    {
      "cell_type": "code",
      "metadata": {
        "id": "Qc_NDUEpKAQI",
        "outputId": "ea55622c-240d-462b-92bf-3206dccf58b6",
        "colab": {
          "base_uri": "https://localhost:8080/",
          "height": 34
        }
      },
      "source": [
        "\n",
        "path_to_glove_file = '/content/glove.6B.100d.txt'\n",
        "\n",
        "embeddings_index = {}\n",
        "with open(path_to_glove_file) as f:\n",
        "  for line in f:\n",
        "    word, coefs = line.split(maxsplit=1)\n",
        "    coefs = np.fromstring(coefs, \"f\", sep=\" \")\n",
        "    embeddings_index[word] = coefs\n",
        "\n",
        "print(\"Found %s word vectors.\" % len(embeddings_index))"
      ],
      "execution_count": null,
      "outputs": [
        {
          "output_type": "stream",
          "text": [
            "Found 400000 word vectors.\n"
          ],
          "name": "stdout"
        }
      ]
    },
    {
      "cell_type": "markdown",
      "metadata": {
        "id": "XHIQ8iY0N4rR"
      },
      "source": [
        "It's a simple NumPy matrix where entry at index i is the pre-trained vector for the word of index i in our vectorizer's vocabulary."
      ]
    },
    {
      "cell_type": "code",
      "metadata": {
        "id": "NkRbzlUeMyKl",
        "outputId": "417b0017-1b5f-49aa-ead1-d00c786e77db",
        "colab": {
          "base_uri": "https://localhost:8080/",
          "height": 34
        }
      },
      "source": [
        "num_tokens = len(voc)\n",
        "embedding_dim = 100\n",
        "hits = 0\n",
        "misses = 0\n",
        "\n",
        "embedding_matrix = np.zeros((num_tokens, embedding_dim))\n",
        "for word, i in word_index.items():\n",
        "  embedding_vector = embeddings_index.get(word)\n",
        "  if embedding_vector is not None:\n",
        "    #words not found in embedding index will be all-zeros\n",
        "    #This includes the rpresentation for \"padding\" and \"OOV\"\n",
        "    embedding_matrix[i] = embedding_vector\n",
        "    hits += 1\n",
        "  else:\n",
        "    misses +=1\n",
        "print(\"Converted %d words (%d misses)\" % (hits, misses))"
      ],
      "execution_count": null,
      "outputs": [
        {
          "output_type": "stream",
          "text": [
            "Converted 3629 words (531 misses)\n"
          ],
          "name": "stdout"
        }
      ]
    },
    {
      "cell_type": "code",
      "metadata": {
        "id": "CRRIGsV1QU04",
        "outputId": "0bb7b461-5329-417e-b2f3-87de1b1f4641",
        "colab": {
          "base_uri": "https://localhost:8080/",
          "height": 238
        }
      },
      "source": [
        "embedding_matrix"
      ],
      "execution_count": null,
      "outputs": [
        {
          "output_type": "execute_result",
          "data": {
            "text/plain": [
              "array([[ 0.        ,  0.        ,  0.        , ...,  0.        ,\n",
              "         0.        ,  0.        ],\n",
              "       [ 0.        ,  0.        ,  0.        , ...,  0.        ,\n",
              "         0.        ,  0.        ],\n",
              "       [-0.038194  , -0.24487001,  0.72812003, ..., -0.1459    ,\n",
              "         0.82779998,  0.27061999],\n",
              "       ...,\n",
              "       [-0.47080001, -0.57889003,  0.36338001, ..., -1.38180006,\n",
              "        -1.30040002, -0.72518998],\n",
              "       [ 0.0099226 , -1.01339996,  0.31173   , ...,  0.047227  ,\n",
              "         0.57251   ,  0.74444997],\n",
              "       [ 0.043993  , -0.56252003,  0.27654999, ..., -0.13319001,\n",
              "        -0.10245   , -0.28321001]])"
            ]
          },
          "metadata": {
            "tags": []
          },
          "execution_count": 14
        }
      ]
    },
    {
      "cell_type": "code",
      "metadata": {
        "id": "mRQYkMqSOCOM"
      },
      "source": [
        "embedding_layer = Embedding(num_tokens, embedding_dim, \n",
        "                            embeddings_initializer=tf.keras.initializers.Constant(embedding_matrix),\n",
        "                            trainable=False)"
      ],
      "execution_count": null,
      "outputs": []
    },
    {
      "cell_type": "code",
      "metadata": {
        "id": "xsYg8PWgRlV-",
        "outputId": "66b0e671-3091-41ca-d0f7-0a4f6e3342cb",
        "colab": {
          "base_uri": "https://localhost:8080/",
          "height": 527
        }
      },
      "source": [
        "int_sequences_input = tf.keras.Input(shape=(None,), dtype=\"int64\")\n",
        "embedded_sequences = embedding_layer(int_sequences_input)\n",
        "x = Conv1D(128, 5, activation=\"relu\")(embedded_sequences)\n",
        "x = MaxPooling1D(5)(x)\n",
        "x = Conv1D(128, 5, activation=\"relu\")(x)\n",
        "x = MaxPooling1D(5)(x)\n",
        "x = Conv1D(128, 5, activation=\"relu\")(x)\n",
        "x = GlobalMaxPooling1D()(x)\n",
        "x = Dense(128, activation=\"relu\")(x)\n",
        "x = Dropout(0.5)(x)\n",
        "preds = Dense(5, activation=\"softmax\")(x)\n",
        "model = tf.keras.Model(int_sequences_input, preds)\n",
        "model.summary()"
      ],
      "execution_count": null,
      "outputs": [
        {
          "output_type": "stream",
          "text": [
            "Model: \"functional_19\"\n",
            "_________________________________________________________________\n",
            "Layer (type)                 Output Shape              Param #   \n",
            "=================================================================\n",
            "input_11 (InputLayer)        [(None, None)]            0         \n",
            "_________________________________________________________________\n",
            "embedding_1 (Embedding)      (None, None, 100)         416000    \n",
            "_________________________________________________________________\n",
            "conv1d_27 (Conv1D)           (None, None, 128)         64128     \n",
            "_________________________________________________________________\n",
            "max_pooling1d_18 (MaxPooling (None, None, 128)         0         \n",
            "_________________________________________________________________\n",
            "conv1d_28 (Conv1D)           (None, None, 128)         82048     \n",
            "_________________________________________________________________\n",
            "max_pooling1d_19 (MaxPooling (None, None, 128)         0         \n",
            "_________________________________________________________________\n",
            "conv1d_29 (Conv1D)           (None, None, 128)         82048     \n",
            "_________________________________________________________________\n",
            "global_max_pooling1d_8 (Glob (None, 128)               0         \n",
            "_________________________________________________________________\n",
            "dense_18 (Dense)             (None, 128)               16512     \n",
            "_________________________________________________________________\n",
            "dropout_8 (Dropout)          (None, 128)               0         \n",
            "_________________________________________________________________\n",
            "dense_19 (Dense)             (None, 5)                 645       \n",
            "=================================================================\n",
            "Total params: 661,381\n",
            "Trainable params: 245,381\n",
            "Non-trainable params: 416,000\n",
            "_________________________________________________________________\n"
          ],
          "name": "stdout"
        }
      ]
    },
    {
      "cell_type": "markdown",
      "metadata": {
        "id": "tLjfkCJ0Zbd2"
      },
      "source": [
        "First, convert our list-of-strings data to NumPy arrays of integer indices. The arrays are right-padded."
      ]
    },
    {
      "cell_type": "code",
      "metadata": {
        "id": "UXG9-kiBRZDx"
      },
      "source": [
        "x_train = vectorizer(np.array([[s] for s in X_train])).numpy()\n",
        "x_test = vectorizer(np.array([[s] for s in X_test])).numpy()\n",
        "\n",
        "y_train = np.array(y_train)\n",
        "y_val = np.array(y_test)"
      ],
      "execution_count": null,
      "outputs": []
    },
    {
      "cell_type": "markdown",
      "metadata": {
        "id": "rfX9P-6E0Rs3"
      },
      "source": [
        "Define a checkpoint, where we will save the current best model(based on val_acc) only."
      ]
    },
    {
      "cell_type": "code",
      "metadata": {
        "id": "XQJerR4wPtOg",
        "outputId": "f037f505-c9d5-4b35-e9b2-86734e48efb3",
        "colab": {
          "base_uri": "https://localhost:8080/",
          "height": 734
        }
      },
      "source": [
        "checkpoint_path = '/content/checkpoint'\n",
        "callback = tf.keras.callbacks.ModelCheckpoint(\n",
        "    filepath=checkpoint_path,\n",
        "    save_weights_only=True,\n",
        "    monitor='val_acc',\n",
        "    save_best_only=True\n",
        ")\n",
        "\n",
        "model.compile(\n",
        "    loss=\"sparse_categorical_crossentropy\", optimizer=\"adam\", metrics=[\"acc\"]\n",
        ")\n",
        "model.fit(x_train, y_train, batch_size=64, epochs=20, validation_data=(x_test, y_test), callbacks=[callback])"
      ],
      "execution_count": null,
      "outputs": [
        {
          "output_type": "stream",
          "text": [
            "Epoch 1/20\n",
            "40/40 [==============================] - 4s 100ms/step - loss: 1.0150 - acc: 0.7091 - val_loss: 0.9390 - val_acc: 0.6905\n",
            "Epoch 2/20\n",
            "40/40 [==============================] - 4s 96ms/step - loss: 0.8462 - acc: 0.7341 - val_loss: 0.8990 - val_acc: 0.6905\n",
            "Epoch 3/20\n",
            "40/40 [==============================] - 4s 98ms/step - loss: 0.7495 - acc: 0.7353 - val_loss: 0.9466 - val_acc: 0.6905\n",
            "Epoch 4/20\n",
            "40/40 [==============================] - 4s 98ms/step - loss: 0.6796 - acc: 0.7409 - val_loss: 0.8815 - val_acc: 0.6937\n",
            "Epoch 5/20\n",
            "40/40 [==============================] - 4s 93ms/step - loss: 0.5786 - acc: 0.7635 - val_loss: 1.0280 - val_acc: 0.6921\n",
            "Epoch 6/20\n",
            "40/40 [==============================] - 4s 92ms/step - loss: 0.5049 - acc: 0.8008 - val_loss: 0.9877 - val_acc: 0.7063\n",
            "Epoch 7/20\n",
            "40/40 [==============================] - 4s 96ms/step - loss: 0.3963 - acc: 0.8437 - val_loss: 1.3173 - val_acc: 0.6905\n",
            "Epoch 8/20\n",
            "40/40 [==============================] - 4s 95ms/step - loss: 0.3303 - acc: 0.8683 - val_loss: 1.1636 - val_acc: 0.6778\n",
            "Epoch 9/20\n",
            "40/40 [==============================] - 4s 94ms/step - loss: 0.2762 - acc: 0.8925 - val_loss: 1.3979 - val_acc: 0.6825\n",
            "Epoch 10/20\n",
            "40/40 [==============================] - 4s 94ms/step - loss: 0.2461 - acc: 0.9036 - val_loss: 1.6731 - val_acc: 0.7063\n",
            "Epoch 11/20\n",
            "40/40 [==============================] - 4s 94ms/step - loss: 0.2128 - acc: 0.9206 - val_loss: 1.6353 - val_acc: 0.7048\n",
            "Epoch 12/20\n",
            "40/40 [==============================] - 4s 95ms/step - loss: 0.2160 - acc: 0.9278 - val_loss: 1.6175 - val_acc: 0.6937\n",
            "Epoch 13/20\n",
            "40/40 [==============================] - 4s 95ms/step - loss: 0.1991 - acc: 0.9337 - val_loss: 1.6057 - val_acc: 0.7143\n",
            "Epoch 14/20\n",
            "40/40 [==============================] - 4s 96ms/step - loss: 0.1367 - acc: 0.9591 - val_loss: 1.8475 - val_acc: 0.6762\n",
            "Epoch 15/20\n",
            "40/40 [==============================] - 4s 95ms/step - loss: 0.1004 - acc: 0.9710 - val_loss: 1.8729 - val_acc: 0.6698\n",
            "Epoch 16/20\n",
            "40/40 [==============================] - 4s 97ms/step - loss: 0.0938 - acc: 0.9750 - val_loss: 1.9985 - val_acc: 0.6778\n",
            "Epoch 17/20\n",
            "40/40 [==============================] - 4s 95ms/step - loss: 0.0908 - acc: 0.9730 - val_loss: 3.1207 - val_acc: 0.7111\n",
            "Epoch 18/20\n",
            "40/40 [==============================] - 4s 95ms/step - loss: 0.1644 - acc: 0.9500 - val_loss: 1.6212 - val_acc: 0.6762\n",
            "Epoch 19/20\n",
            "40/40 [==============================] - 4s 96ms/step - loss: 0.0812 - acc: 0.9786 - val_loss: 1.9967 - val_acc: 0.7206\n",
            "Epoch 20/20\n",
            "40/40 [==============================] - 4s 95ms/step - loss: 0.0744 - acc: 0.9790 - val_loss: 1.8456 - val_acc: 0.6825\n"
          ],
          "name": "stdout"
        },
        {
          "output_type": "execute_result",
          "data": {
            "text/plain": [
              "<tensorflow.python.keras.callbacks.History at 0x7fd6f4dc6550>"
            ]
          },
          "metadata": {
            "tags": []
          },
          "execution_count": 48
        }
      ]
    },
    {
      "cell_type": "code",
      "metadata": {
        "id": "hjy0HB5mPtQ_"
      },
      "source": [
        ""
      ],
      "execution_count": null,
      "outputs": []
    }
  ]
}