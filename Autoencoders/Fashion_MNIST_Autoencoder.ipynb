{
  "nbformat": 4,
  "nbformat_minor": 0,
  "metadata": {
    "colab": {
      "name": "Fashion MNIST Autoencoder.ipynb",
      "provenance": [],
      "collapsed_sections": []
    },
    "kernelspec": {
      "name": "python3",
      "display_name": "Python 3"
    },
    "accelerator": "GPU"
  },
  "cells": [
    {
      "cell_type": "code",
      "metadata": {
        "id": "hmaaSah9NDH0"
      },
      "source": [
        "from tensorflow.keras.datasets import fashion_mnist\n",
        "from tensorflow.keras.layers import Dense, Input\n",
        "from tensorflow.keras.layers import Conv2D, Flatten\n",
        "from tensorflow.keras.layers import Reshape, Conv2DTranspose\n",
        "from tensorflow.keras.models import Model\n",
        "from tensorflow.keras.datasets import mnist\n",
        "from tensorflow.keras.utils import plot_model\n",
        "from tensorflow.keras import backend as K\n",
        "import numpy as np\n",
        "import matplotlib.pyplot as plt"
      ],
      "execution_count": 1,
      "outputs": []
    },
    {
      "cell_type": "code",
      "metadata": {
        "id": "EYeO_NpANRLL",
        "outputId": "4c935cc3-5d63-4362-f238-bc56ddbb590e",
        "colab": {
          "base_uri": "https://localhost:8080/"
        }
      },
      "source": [
        "(x_train, _), (x_test, _) = fashion_mnist.load_data()\n",
        "\n",
        "image_size = x_train.shape[1]\n",
        "#x_train = np.reshape(x_train, [-1, image_size, image_size, 1])\n",
        "#x_test = np.reshape(x_test, [-1, image_size, image_size, 1])\n",
        "x_train = x_train.reshape((len(x_train), x_train.shape[1]*x_train.shape[1]))\n",
        "x_test = x_test.reshape((len(x_test), x_test.shape[1]*x_test.shape[1]))\n",
        "x_train = x_train.astype('float32') / 255\n",
        "x_test = x_test.astype('float32') / 255"
      ],
      "execution_count": 2,
      "outputs": [
        {
          "output_type": "stream",
          "text": [
            "Downloading data from https://storage.googleapis.com/tensorflow/tf-keras-datasets/train-labels-idx1-ubyte.gz\n",
            "32768/29515 [=================================] - 0s 0us/step\n",
            "Downloading data from https://storage.googleapis.com/tensorflow/tf-keras-datasets/train-images-idx3-ubyte.gz\n",
            "26427392/26421880 [==============================] - 0s 0us/step\n",
            "Downloading data from https://storage.googleapis.com/tensorflow/tf-keras-datasets/t10k-labels-idx1-ubyte.gz\n",
            "8192/5148 [===============================================] - 0s 0us/step\n",
            "Downloading data from https://storage.googleapis.com/tensorflow/tf-keras-datasets/t10k-images-idx3-ubyte.gz\n",
            "4423680/4422102 [==============================] - 0s 0us/step\n"
          ],
          "name": "stdout"
        }
      ]
    },
    {
      "cell_type": "code",
      "metadata": {
        "id": "x3PXbs7uSafz",
        "outputId": "ad7cc658-65f4-444c-f008-957337a76508",
        "colab": {
          "base_uri": "https://localhost:8080/"
        }
      },
      "source": [
        "x_train.shape"
      ],
      "execution_count": 3,
      "outputs": [
        {
          "output_type": "execute_result",
          "data": {
            "text/plain": [
              "(60000, 784)"
            ]
          },
          "metadata": {
            "tags": []
          },
          "execution_count": 3
        }
      ]
    },
    {
      "cell_type": "code",
      "metadata": {
        "id": "MaGrF3yKYLSH",
        "outputId": "e94e446e-c5da-4fcc-9148-7fb7b9f0bc98",
        "colab": {
          "base_uri": "https://localhost:8080/"
        }
      },
      "source": [
        "latent_dim = 32\n",
        "#Encoder\n",
        "input_image = Input(shape=(784, ))\n",
        "x = Dense(500, activation='relu')(input_image)\n",
        "x = Dense(250, activation='relu')(x)\n",
        "x = Dense(100, activation='relu')(x)\n",
        "latent_layer = Dense(latent_dim, activation='sigmoid')(x)\n",
        "encoder = Model(input_image, latent_layer)\n",
        "encoder.summary()\n",
        "\n",
        "#Decoder\n",
        "latent_inputs = Input(shape=(latent_dim, ))\n",
        "d = Dense(100, activation='relu')(latent_inputs)\n",
        "d = Dense(250, activation='relu')(d)\n",
        "d = Dense(500, activation='relu')(d)\n",
        "outputs = Dense(784, activation='sigmoid')(d)\n",
        "decoder = Model(latent_inputs, outputs)\n",
        "decoder.summary()\n",
        "\n",
        "#autoencoder = encoder+decoder\n",
        "autoencoder = Model(input_image,\n",
        "                    decoder(encoder(input_image)),\n",
        "                    name='autoencoder')"
      ],
      "execution_count": 4,
      "outputs": [
        {
          "output_type": "stream",
          "text": [
            "Model: \"functional_1\"\n",
            "_________________________________________________________________\n",
            "Layer (type)                 Output Shape              Param #   \n",
            "=================================================================\n",
            "input_1 (InputLayer)         [(None, 784)]             0         \n",
            "_________________________________________________________________\n",
            "dense (Dense)                (None, 500)               392500    \n",
            "_________________________________________________________________\n",
            "dense_1 (Dense)              (None, 250)               125250    \n",
            "_________________________________________________________________\n",
            "dense_2 (Dense)              (None, 100)               25100     \n",
            "_________________________________________________________________\n",
            "dense_3 (Dense)              (None, 32)                3232      \n",
            "=================================================================\n",
            "Total params: 546,082\n",
            "Trainable params: 546,082\n",
            "Non-trainable params: 0\n",
            "_________________________________________________________________\n",
            "Model: \"functional_3\"\n",
            "_________________________________________________________________\n",
            "Layer (type)                 Output Shape              Param #   \n",
            "=================================================================\n",
            "input_2 (InputLayer)         [(None, 32)]              0         \n",
            "_________________________________________________________________\n",
            "dense_4 (Dense)              (None, 100)               3300      \n",
            "_________________________________________________________________\n",
            "dense_5 (Dense)              (None, 250)               25250     \n",
            "_________________________________________________________________\n",
            "dense_6 (Dense)              (None, 500)               125500    \n",
            "_________________________________________________________________\n",
            "dense_7 (Dense)              (None, 784)               392784    \n",
            "=================================================================\n",
            "Total params: 546,834\n",
            "Trainable params: 546,834\n",
            "Non-trainable params: 0\n",
            "_________________________________________________________________\n"
          ],
          "name": "stdout"
        }
      ]
    },
    {
      "cell_type": "code",
      "metadata": {
        "id": "9GxDTbtSPXjV",
        "outputId": "bdf79d19-c5ea-4e15-a912-0a755a0fbba6",
        "colab": {
          "base_uri": "https://localhost:8080/"
        }
      },
      "source": [
        "autoencoder.compile(optimizer='adam',\n",
        "                    loss='binary_crossentropy')\n",
        "autoencoder.fit(x_train, x_train,\n",
        "                epochs=50,\n",
        "                batch_size=256,\n",
        "                shuffle=True,\n",
        "                validation_data=(x_test,x_test))"
      ],
      "execution_count": 5,
      "outputs": [
        {
          "output_type": "stream",
          "text": [
            "Epoch 1/50\n",
            "235/235 [==============================] - 1s 4ms/step - loss: 0.4180 - val_loss: 0.3524\n",
            "Epoch 2/50\n",
            "235/235 [==============================] - 1s 4ms/step - loss: 0.3313 - val_loss: 0.3195\n",
            "Epoch 3/50\n",
            "235/235 [==============================] - 1s 4ms/step - loss: 0.3108 - val_loss: 0.3090\n",
            "Epoch 4/50\n",
            "235/235 [==============================] - 1s 4ms/step - loss: 0.3045 - val_loss: 0.3047\n",
            "Epoch 5/50\n",
            "235/235 [==============================] - 1s 4ms/step - loss: 0.3003 - val_loss: 0.3019\n",
            "Epoch 6/50\n",
            "235/235 [==============================] - 1s 4ms/step - loss: 0.2975 - val_loss: 0.2987\n",
            "Epoch 7/50\n",
            "235/235 [==============================] - 1s 4ms/step - loss: 0.2956 - val_loss: 0.2966\n",
            "Epoch 8/50\n",
            "235/235 [==============================] - 1s 4ms/step - loss: 0.2937 - val_loss: 0.2950\n",
            "Epoch 9/50\n",
            "235/235 [==============================] - 1s 4ms/step - loss: 0.2925 - val_loss: 0.2947\n",
            "Epoch 10/50\n",
            "235/235 [==============================] - 1s 4ms/step - loss: 0.2909 - val_loss: 0.2925\n",
            "Epoch 11/50\n",
            "235/235 [==============================] - 1s 4ms/step - loss: 0.2895 - val_loss: 0.2909\n",
            "Epoch 12/50\n",
            "235/235 [==============================] - 1s 4ms/step - loss: 0.2884 - val_loss: 0.2898\n",
            "Epoch 13/50\n",
            "235/235 [==============================] - 1s 4ms/step - loss: 0.2872 - val_loss: 0.2896\n",
            "Epoch 14/50\n",
            "235/235 [==============================] - 1s 4ms/step - loss: 0.2864 - val_loss: 0.2887\n",
            "Epoch 15/50\n",
            "235/235 [==============================] - 1s 4ms/step - loss: 0.2856 - val_loss: 0.2874\n",
            "Epoch 16/50\n",
            "235/235 [==============================] - 1s 4ms/step - loss: 0.2848 - val_loss: 0.2867\n",
            "Epoch 17/50\n",
            "235/235 [==============================] - 1s 4ms/step - loss: 0.2840 - val_loss: 0.2861\n",
            "Epoch 18/50\n",
            "235/235 [==============================] - 1s 4ms/step - loss: 0.2833 - val_loss: 0.2853\n",
            "Epoch 19/50\n",
            "235/235 [==============================] - 1s 4ms/step - loss: 0.2826 - val_loss: 0.2855\n",
            "Epoch 20/50\n",
            "235/235 [==============================] - 1s 4ms/step - loss: 0.2821 - val_loss: 0.2851\n",
            "Epoch 21/50\n",
            "235/235 [==============================] - 1s 4ms/step - loss: 0.2815 - val_loss: 0.2852\n",
            "Epoch 22/50\n",
            "235/235 [==============================] - 1s 4ms/step - loss: 0.2808 - val_loss: 0.2830\n",
            "Epoch 23/50\n",
            "235/235 [==============================] - 1s 4ms/step - loss: 0.2803 - val_loss: 0.2824\n",
            "Epoch 24/50\n",
            "235/235 [==============================] - 1s 4ms/step - loss: 0.2799 - val_loss: 0.2820\n",
            "Epoch 25/50\n",
            "235/235 [==============================] - 1s 4ms/step - loss: 0.2793 - val_loss: 0.2818\n",
            "Epoch 26/50\n",
            "235/235 [==============================] - 1s 4ms/step - loss: 0.2790 - val_loss: 0.2811\n",
            "Epoch 27/50\n",
            "235/235 [==============================] - 1s 4ms/step - loss: 0.2786 - val_loss: 0.2809\n",
            "Epoch 28/50\n",
            "235/235 [==============================] - 1s 4ms/step - loss: 0.2783 - val_loss: 0.2807\n",
            "Epoch 29/50\n",
            "235/235 [==============================] - 1s 4ms/step - loss: 0.2780 - val_loss: 0.2808\n",
            "Epoch 30/50\n",
            "235/235 [==============================] - 1s 4ms/step - loss: 0.2778 - val_loss: 0.2802\n",
            "Epoch 31/50\n",
            "235/235 [==============================] - 1s 4ms/step - loss: 0.2775 - val_loss: 0.2800\n",
            "Epoch 32/50\n",
            "235/235 [==============================] - 1s 4ms/step - loss: 0.2772 - val_loss: 0.2800\n",
            "Epoch 33/50\n",
            "235/235 [==============================] - 1s 4ms/step - loss: 0.2771 - val_loss: 0.2796\n",
            "Epoch 34/50\n",
            "235/235 [==============================] - 1s 4ms/step - loss: 0.2768 - val_loss: 0.2793\n",
            "Epoch 35/50\n",
            "235/235 [==============================] - 1s 4ms/step - loss: 0.2764 - val_loss: 0.2797\n",
            "Epoch 36/50\n",
            "235/235 [==============================] - 1s 4ms/step - loss: 0.2762 - val_loss: 0.2790\n",
            "Epoch 37/50\n",
            "235/235 [==============================] - 1s 4ms/step - loss: 0.2761 - val_loss: 0.2785\n",
            "Epoch 38/50\n",
            "235/235 [==============================] - 1s 4ms/step - loss: 0.2757 - val_loss: 0.2787\n",
            "Epoch 39/50\n",
            "235/235 [==============================] - 1s 4ms/step - loss: 0.2755 - val_loss: 0.2783\n",
            "Epoch 40/50\n",
            "235/235 [==============================] - 1s 4ms/step - loss: 0.2752 - val_loss: 0.2779\n",
            "Epoch 41/50\n",
            "235/235 [==============================] - 1s 4ms/step - loss: 0.2750 - val_loss: 0.2777\n",
            "Epoch 42/50\n",
            "235/235 [==============================] - 1s 4ms/step - loss: 0.2747 - val_loss: 0.2774\n",
            "Epoch 43/50\n",
            "235/235 [==============================] - 1s 4ms/step - loss: 0.2743 - val_loss: 0.2783\n",
            "Epoch 44/50\n",
            "235/235 [==============================] - 1s 4ms/step - loss: 0.2741 - val_loss: 0.2769\n",
            "Epoch 45/50\n",
            "235/235 [==============================] - 1s 4ms/step - loss: 0.2739 - val_loss: 0.2769\n",
            "Epoch 46/50\n",
            "235/235 [==============================] - 1s 4ms/step - loss: 0.2738 - val_loss: 0.2766\n",
            "Epoch 47/50\n",
            "235/235 [==============================] - 1s 4ms/step - loss: 0.2735 - val_loss: 0.2764\n",
            "Epoch 48/50\n",
            "235/235 [==============================] - 1s 4ms/step - loss: 0.2733 - val_loss: 0.2770\n",
            "Epoch 49/50\n",
            "235/235 [==============================] - 1s 4ms/step - loss: 0.2732 - val_loss: 0.2760\n",
            "Epoch 50/50\n",
            "235/235 [==============================] - 1s 4ms/step - loss: 0.2729 - val_loss: 0.2763\n"
          ],
          "name": "stdout"
        },
        {
          "output_type": "execute_result",
          "data": {
            "text/plain": [
              "<tensorflow.python.keras.callbacks.History at 0x7fb430099f28>"
            ]
          },
          "metadata": {
            "tags": []
          },
          "execution_count": 5
        }
      ]
    },
    {
      "cell_type": "code",
      "metadata": {
        "id": "NOfGJBfTR7WB",
        "outputId": "b68f365e-f4d5-4e85-ff15-29b6c936d336",
        "colab": {
          "base_uri": "https://localhost:8080/",
          "height": 181
        }
      },
      "source": [
        "#using the test set\n",
        "encoded_images = encoder.predict(x_test)\n",
        "decoded_images = decoder.predict(encoded_images)\n",
        "\n",
        "n = 10 #number of digits to display\n",
        "for i in range(n):\n",
        "  ax = plt.subplot(2, n, i+1)\n",
        "  plt.imshow(x_test[i].reshape(28,28))\n",
        "  plt.gray()\n",
        "  ax.get_xaxis().set_visible(False)\n",
        "  ax.get_yaxis().set_visible(False)\n",
        "\n",
        "  #Display reconstruction\n",
        "  ax = plt.subplot(2, n, i+1+n)\n",
        "  plt.imshow(decoded_images[i].reshape(28,28))\n",
        "  plt.gray()\n",
        "  ax.get_xaxis().set_visible(False)\n",
        "  ax.get_yaxis().set_visible(False)\n",
        "plt.show()"
      ],
      "execution_count": 6,
      "outputs": [
        {
          "output_type": "display_data",
          "data": {
            "image/png": "[encoded data removed]",
            "text/plain": [
              "<Figure size 432x288 with 20 Axes>"
            ]
          },
          "metadata": {
            "tags": [],
            "needs_background": "light"
          }
        }
      ]
    },
    {
      "cell_type": "code",
      "metadata": {
        "id": "HjReMZ-IWM8u",
        "outputId": "a203884f-e674-4baa-c5ec-5d8c49ff648a",
        "colab": {
          "base_uri": "https://localhost:8080/",
          "height": 264
        }
      },
      "source": [
        "x_decoded = autoencoder.predict(x_test)\n",
        "\n",
        "# display the 1st 8 test input and decoded images\n",
        "imgs = np.concatenate([x_test[:8], x_decoded[:8]])\n",
        "imgs = imgs.reshape((4, 4, image_size, image_size))\n",
        "imgs = np.vstack([np.hstack(i) for i in imgs])\n",
        "plt.figure()\n",
        "plt.axis('off')\n",
        "plt.title('Input: 1st 2 rows, Decoded: last 2 rows')\n",
        "plt.imshow(imgs, interpolation='none', cmap='gray')\n",
        "plt.savefig('input_and_decoded.png')\n",
        "plt.show()"
      ],
      "execution_count": 7,
      "outputs": [
        {
          "output_type": "display_data",
          "data": {
            "image/png": "[encoded data removed]",
            "text/plain": [
              "<Figure size 432x288 with 1 Axes>"
            ]
          },
          "metadata": {
            "tags": [],
            "needs_background": "light"
          }
        }
      ]
    }
  ]
}